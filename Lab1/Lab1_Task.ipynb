{
  "nbformat": 4,
  "nbformat_minor": 0,
  "metadata": {
    "colab": {
      "name": "Lab1_Task.ipynb",
      "provenance": [],
      "collapsed_sections": [],
      "authorship_tag": "ABX9TyMsLfNHQgTBLIg2ZBXhZ30C",
      "include_colab_link": true
    },
    "kernelspec": {
      "name": "python3",
      "display_name": "Python 3"
    }
  },
  "cells": [
    {
      "cell_type": "markdown",
      "metadata": {
        "id": "view-in-github",
        "colab_type": "text"
      },
      "source": [
        "<a href=\"https://colab.research.google.com/github/Rohitv97/Data-Science-Lab/blob/master/Lab1/Lab1_Task.ipynb\" target=\"_parent\"><img src=\"https://colab.research.google.com/assets/colab-badge.svg\" alt=\"Open In Colab\"/></a>"
      ]
    },
    {
      "cell_type": "code",
      "metadata": {
        "id": "q2TBjUrH3rCR",
        "colab_type": "code",
        "colab": {}
      },
      "source": [
        "import numpy as np\n",
        "import matplotlib.pyplot as plt"
      ],
      "execution_count": 0,
      "outputs": []
    },
    {
      "cell_type": "markdown",
      "metadata": {
        "id": "2IH1SZqh39HM",
        "colab_type": "text"
      },
      "source": [
        "**Question 1**\n",
        "Create a (4 x 2) integer array and print it's attributes"
      ]
    },
    {
      "cell_type": "code",
      "metadata": {
        "id": "M-6cRlju34-F",
        "colab_type": "code",
        "colab": {
          "base_uri": "https://localhost:8080/",
          "height": 170
        },
        "outputId": "9d7c55ef-8205-4658-88cc-30cc6d1643b2"
      },
      "source": [
        "array = np.random.rand(4,2)\n",
        "print(array)\n",
        "\n",
        "# Print attributes of Array\n",
        "print('Type of Array:', type(array))\n",
        "print('Type of Elements in array: ', array.dtype)\n",
        "print('Dimension of array: ', array.ndim)\n",
        "print('Shape of array: ', array.shape)\n",
        "print('No. of items in array: ', array.itemsize)"
      ],
      "execution_count": 6,
      "outputs": [
        {
          "output_type": "stream",
          "text": [
            "[[0.79972817 0.53029759]\n",
            " [0.38190914 0.3587613 ]\n",
            " [0.18629404 0.22545779]\n",
            " [0.51543401 0.63846068]]\n",
            "Type of Array: <class 'numpy.ndarray'>\n",
            "Type of Elements in array:  float64\n",
            "Dimension of array:  2\n",
            "Shape of array:  (4, 2)\n",
            "No. of items in array:  8\n"
          ],
          "name": "stdout"
        }
      ]
    },
    {
      "cell_type": "markdown",
      "metadata": {
        "id": "oKw0Hqlp5Qkq",
        "colab_type": "text"
      },
      "source": [
        "**Question 2**\n",
        "Create an array of dimension (1,10) and sort it in ascending and descending order"
      ]
    },
    {
      "cell_type": "code",
      "metadata": {
        "id": "tOmpnI_m5UpY",
        "colab_type": "code",
        "colab": {
          "base_uri": "https://localhost:8080/",
          "height": 119
        },
        "outputId": "6d2084be-5152-4b5e-b6aa-b224bab51017"
      },
      "source": [
        "array = np.random.rand(1,10)\n",
        "print('Original Array: ', array)\n",
        "\n",
        "sorted_array = np.sort(array)\n",
        "print('Ascending Order Sorted: ', sorted_array)\n",
        "\n",
        "# sorted_array = np.fliplr(sorted_array) This also works. Flips the array\n",
        "sorted_array = np.sort(array, axis=0)\n",
        "print('Descending Order Sorted: ', sorted_array)"
      ],
      "execution_count": 40,
      "outputs": [
        {
          "output_type": "stream",
          "text": [
            "Original Array:  [[0.63962592 0.77430346 0.31348251 0.47636898 0.88149602 0.82980846\n",
            "  0.35685475 0.73619277 0.56204664 0.05414632]]\n",
            "Ascending Order Sorted:  [[0.05414632 0.31348251 0.35685475 0.47636898 0.56204664 0.63962592\n",
            "  0.73619277 0.77430346 0.82980846 0.88149602]]\n",
            "Descending Order Sorted:  [[0.63962592 0.77430346 0.31348251 0.47636898 0.88149602 0.82980846\n",
            "  0.35685475 0.73619277 0.56204664 0.05414632]]\n"
          ],
          "name": "stdout"
        }
      ]
    },
    {
      "cell_type": "markdown",
      "metadata": {
        "id": "CQM8VUq37Px0",
        "colab_type": "text"
      },
      "source": [
        "**Question 3**\n",
        "Convert an 1D array [1 2 3 4 5 6 7 8 9] to 2D array [[1 2 3], [4 5 6], [7 8 9]]"
      ]
    },
    {
      "cell_type": "code",
      "metadata": {
        "id": "ourv6We87R9j",
        "colab_type": "code",
        "colab": {
          "base_uri": "https://localhost:8080/",
          "height": 68
        },
        "outputId": "ffc4a791-50cc-45b8-96bf-f051ef4b1426"
      },
      "source": [
        "array = np.array([1,2,3,4,5,6,7,8,9])\n",
        "new_array = np.reshape(array, (3,3))\n",
        "print('New Reshaped Array: ', new_array)"
      ],
      "execution_count": 15,
      "outputs": [
        {
          "output_type": "stream",
          "text": [
            "New Reshaped Array:  [[1 2 3]\n",
            " [4 5 6]\n",
            " [7 8 9]]\n"
          ],
          "name": "stdout"
        }
      ]
    },
    {
      "cell_type": "markdown",
      "metadata": {
        "id": "h43dj0eY7wsv",
        "colab_type": "text"
      },
      "source": [
        "**Question 4**\n",
        "Stack two arrays of any size horizontally and vertically"
      ]
    },
    {
      "cell_type": "code",
      "metadata": {
        "id": "0oqKgBWL708f",
        "colab_type": "code",
        "colab": {
          "base_uri": "https://localhost:8080/",
          "height": 357
        },
        "outputId": "ae8f3f2f-3798-43bc-8d86-243a9cfe215b"
      },
      "source": [
        "a = np.random.randint(0,10, (2,3))\n",
        "b = np.random.randint(0,20, (2,3))\n",
        "\n",
        "print(a)\n",
        "print(b)\n",
        "\n",
        "print('\\n Stacking Horizontally')\n",
        "print(np.stack((a,b)))\n",
        "\n",
        "print('\\n Stacking Vertically')\n",
        "print(np.stack((a,b), axis=-1))"
      ],
      "execution_count": 22,
      "outputs": [
        {
          "output_type": "stream",
          "text": [
            "[[1 9 6]\n",
            " [4 6 8]]\n",
            "[[19  0  6]\n",
            " [ 7 16  2]]\n",
            "\n",
            " Stacking Horizontally\n",
            "[[[ 1  9  6]\n",
            "  [ 4  6  8]]\n",
            "\n",
            " [[19  0  6]\n",
            "  [ 7 16  2]]]\n",
            "\n",
            " Stacking Vertically\n",
            "[[[ 1 19]\n",
            "  [ 9  0]\n",
            "  [ 6  6]]\n",
            "\n",
            " [[ 4  7]\n",
            "  [ 6 16]\n",
            "  [ 8  2]]]\n"
          ],
          "name": "stdout"
        }
      ]
    },
    {
      "cell_type": "markdown",
      "metadata": {
        "id": "lhd2YaCj9swR",
        "colab_type": "text"
      },
      "source": [
        "**Question 5**\n",
        "Create two array of same size and find commom elements"
      ]
    },
    {
      "cell_type": "code",
      "metadata": {
        "id": "yY0KMh3L9wX_",
        "colab_type": "code",
        "colab": {
          "base_uri": "https://localhost:8080/",
          "height": 136
        },
        "outputId": "4beb154d-fb65-450a-fd77-4be169d36d1a"
      },
      "source": [
        "a = np.random.randint(0,10, (2,3))\n",
        "b = np.random.randint(0,20, (2,3))\n",
        "\n",
        "print(a)\n",
        "print(b)\n",
        "\n",
        "print('\\n')\n",
        "\n",
        "print('Common Elements: ', np.intersect1d(a,b))"
      ],
      "execution_count": 23,
      "outputs": [
        {
          "output_type": "stream",
          "text": [
            "[[7 3 7]\n",
            " [5 5 9]]\n",
            "[[ 2  9  3]\n",
            " [ 5 11  3]]\n",
            "\n",
            "\n",
            "Common Elements:  [3 5 9]\n"
          ],
          "name": "stdout"
        }
      ]
    },
    {
      "cell_type": "markdown",
      "metadata": {
        "id": "uVp8qGyT-NpQ",
        "colab_type": "text"
      },
      "source": [
        "**Question 6**\n",
        "Create a 2D array of 5 by 5 and find the min and max values from each row and each column"
      ]
    },
    {
      "cell_type": "code",
      "metadata": {
        "id": "BDkmBhRM-RUP",
        "colab_type": "code",
        "colab": {
          "base_uri": "https://localhost:8080/",
          "height": 544
        },
        "outputId": "a0928de2-27c3-48f1-acfa-d62023c50db1"
      },
      "source": [
        "a = np.random.randint(0,10, (5,5))\n",
        "print(a)\n",
        "\n",
        "print('\\nRow: \\n')\n",
        "for row in a:\n",
        "  print('Minimum: ', np.amin(row))\n",
        "  print('Maximum: ', np.amax(row))\n",
        "print('\\nColumn: \\n')\n",
        "for column in a.T:\n",
        "  print('Minimum: ', np.amin(column))\n",
        "  print('Maximum: ', np.amax(column))"
      ],
      "execution_count": 26,
      "outputs": [
        {
          "output_type": "stream",
          "text": [
            "[[2 7 7 9 7]\n",
            " [1 6 7 5 1]\n",
            " [1 5 9 7 3]\n",
            " [0 3 3 0 2]\n",
            " [2 1 8 7 0]]\n",
            "\n",
            "Row: \n",
            "\n",
            "Minimum:  2\n",
            "Maximum:  9\n",
            "Minimum:  1\n",
            "Maximum:  7\n",
            "Minimum:  1\n",
            "Maximum:  9\n",
            "Minimum:  0\n",
            "Maximum:  3\n",
            "Minimum:  0\n",
            "Maximum:  8\n",
            "\n",
            "Column: \n",
            "\n",
            "Minimum:  0\n",
            "Maximum:  2\n",
            "Minimum:  1\n",
            "Maximum:  7\n",
            "Minimum:  3\n",
            "Maximum:  9\n",
            "Minimum:  0\n",
            "Maximum:  9\n",
            "Minimum:  0\n",
            "Maximum:  7\n"
          ],
          "name": "stdout"
        }
      ]
    },
    {
      "cell_type": "markdown",
      "metadata": {
        "id": "_KMycP1e_Yqc",
        "colab_type": "text"
      },
      "source": [
        "**Question 7**\n",
        "Create an array of size 100 and compute the mean, median, standard deviation."
      ]
    },
    {
      "cell_type": "code",
      "metadata": {
        "id": "LHkLbfl8_eKW",
        "colab_type": "code",
        "colab": {
          "base_uri": "https://localhost:8080/",
          "height": 68
        },
        "outputId": "73571011-c102-4a1d-b7f4-785ea258c928"
      },
      "source": [
        "a = np.random.rand(100)\n",
        "print('Mean of Array: ', np.mean(a))\n",
        "print('Median of Array: ', np.median(a))\n",
        "print('Standard Deviation of Array: ', np.std(a))"
      ],
      "execution_count": 28,
      "outputs": [
        {
          "output_type": "stream",
          "text": [
            "Mean of Array:  0.5329084097530418\n",
            "Median of Array:  0.5227862681810431\n",
            "Standard Deviation of Array:  0.269232919050339\n"
          ],
          "name": "stdout"
        }
      ]
    },
    {
      "cell_type": "markdown",
      "metadata": {
        "id": "SaSp6UD-_3Mj",
        "colab_type": "text"
      },
      "source": [
        "**Quesiton 8**\n",
        "Normalize a 5x5 random matrix"
      ]
    },
    {
      "cell_type": "code",
      "metadata": {
        "id": "NxyCfkkU_6Cc",
        "colab_type": "code",
        "colab": {
          "base_uri": "https://localhost:8080/",
          "height": 221
        },
        "outputId": "0c427123-a7e1-4c41-8dd4-316b6c70d8cc"
      },
      "source": [
        "a = np.random.rand(5,5)\n",
        "print(a)\n",
        "\n",
        "min_a = np.amin(a)\n",
        "max_a = np.amax(a)\n",
        "\n",
        "for i in range(len(a)):\n",
        "  for j in range(len(a[i])):\n",
        "    val = a[i][j]\n",
        "    val = (val - min_a)/(max_a - min_a)\n",
        "    a[i][j] = val\n",
        "\n",
        "print('Normalized Array:\\n')\n",
        "print(a)"
      ],
      "execution_count": 42,
      "outputs": [
        {
          "output_type": "stream",
          "text": [
            "[[0.73542421 0.57016564 0.2495726  0.21354448 0.74577106]\n",
            " [0.46392751 0.94813971 0.99652507 0.20397074 0.93027145]\n",
            " [0.659007   0.1496008  0.92521505 0.86053333 0.12962021]\n",
            " [0.49546116 0.13580834 0.29990007 0.81757121 0.32104462]\n",
            " [0.27082619 0.63676159 0.41698384 0.06314139 0.99384525]]\n",
            "Normalized Array:\n",
            "\n",
            "[[0.72026417 0.54321096 0.19973695 0.16113747 0.73134948]\n",
            " [0.42939054 0.94816134 1.         0.15088045 0.92901781]\n",
            " [0.638393   0.09263008 0.92360053 0.85430243 0.07122346]\n",
            " [0.46317476 0.07785324 0.25365633 0.80827406 0.27630999]\n",
            " [0.22250742 0.61455992 0.37909646 0.         0.99712892]]\n"
          ],
          "name": "stdout"
        }
      ]
    },
    {
      "cell_type": "markdown",
      "metadata": {
        "id": "myLGI0tJB6zA",
        "colab_type": "text"
      },
      "source": [
        "**Question 9**\n",
        "Consider an array of dimension (4,4,3), how to mulitply it by an array with dimensions (4,4)?"
      ]
    },
    {
      "cell_type": "code",
      "metadata": {
        "id": "Ap_YQcp8CAJ3",
        "colab_type": "code",
        "colab": {
          "base_uri": "https://localhost:8080/",
          "height": 544
        },
        "outputId": "f1cf5ebc-e07c-4274-9ba4-5af957da3d4c"
      },
      "source": [
        "A = np.random.rand(4,4,3)\n",
        "B = np.random.rand(4,4)\n",
        "\n",
        "A_new = A.reshape(12, 4)\n",
        "print(A_new,'\\n')\n",
        "print(B, '\\n')\n",
        "\n",
        "product = np.dot(A_new, B)\n",
        "print('Resulting Matrix:')\n",
        "print(product)"
      ],
      "execution_count": 61,
      "outputs": [
        {
          "output_type": "stream",
          "text": [
            "[[0.87217307 0.8978849  0.86703178 0.67057461]\n",
            " [0.43114287 0.49420674 0.30451088 0.84690292]\n",
            " [0.73952648 0.12846643 0.93293847 0.56185238]\n",
            " [0.25839215 0.7946635  0.17562826 0.34346691]\n",
            " [0.92597037 0.73968177 0.63185036 0.94548466]\n",
            " [0.5831142  0.40583879 0.95113522 0.99539758]\n",
            " [0.41905525 0.90060075 0.27265956 0.64547796]\n",
            " [0.973911   0.50565187 0.78514456 0.56631862]\n",
            " [0.29210609 0.38778436 0.66035146 0.34813905]\n",
            " [0.5561574  0.81852735 0.70040665 0.98513462]\n",
            " [0.87477483 0.93385898 0.78123746 0.69892962]\n",
            " [0.50091615 0.62666045 0.39935118 0.55351019]] \n",
            "\n",
            "[[0.65368188 0.71722732 0.17086073 0.86874353]\n",
            " [0.10019479 0.06276388 0.80616538 0.83545138]\n",
            " [0.47918742 0.08187375 0.20712285 0.43554756]\n",
            " [0.92721639 0.208354   0.01438398 0.08229345]] \n",
            "\n",
            "Resulting Matrix:\n",
            "[[1.69732562 0.89260514 1.06209147 1.94065135]\n",
            " [1.26252728 0.54163283 0.54733075 0.98976181]\n",
            " [1.46429784 0.73191901 0.43123577 1.20236213]\n",
            " [0.6511544  0.32114412 0.72609632 0.99313875]\n",
            " [1.85884593 0.95928401 0.89898829 1.77540699]\n",
            " [1.80055511 0.72896553 0.63812412 1.34181459]\n",
            " [1.0933171  0.51389464 0.8633918  1.28833448]\n",
            " [1.58862297 0.91252973 0.74480947 1.65709854]\n",
            " [0.86903078 0.36044694 0.50430929 0.89400428]\n",
            " [1.69462121 0.71286689 0.91413425 1.55312847]\n",
            " [1.68781043 0.89561264 1.07417497 1.93793214]\n",
            " [1.09481571 0.54662483 0.6814553  1.17819869]]\n"
          ],
          "name": "stdout"
        }
      ]
    }
  ]
}